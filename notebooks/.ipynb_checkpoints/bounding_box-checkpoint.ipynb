{
 "cells": [
  {
   "cell_type": "code",
   "execution_count": 54,
   "metadata": {},
   "outputs": [],
   "source": [
    "import cv2\n",
    "import numpy as np\n",
    "import pickle\n",
    "from tqdm import tqdm\n",
    "import os\n",
    "import json\n",
    "import random\n",
    "# from proto import *\n",
    "from math import sqrt\n",
    "\n",
    "import tensorflow as tf\n",
    "from tensorflow.keras.models import Sequential\n",
    "from tensorflow.keras.layers import Dense, Dropout, Activation, Flatten, Reshape, LeakyReLU\n",
    "from tensorflow.keras.layers import Conv2D, MaxPooling2D\n",
    "from tensorflow.keras.preprocessing.image import ImageDataGenerator, img_to_array\n",
    "import keras.backend as K"
   ]
  },
  {
   "cell_type": "code",
   "execution_count": 4,
   "metadata": {},
   "outputs": [],
   "source": [
    "GRID_H, GRID_W = 6, 6\n",
    "\n",
    "IMAGE_SIZE = (4000, 6000)\n",
    "BATCH_SIZE = 2\n",
    "WARM_UP_BATCHES = 0\n",
    "\n",
    "NO_OBJECT_SCALE = 1.\n",
    "OBJECT_SCALE = 5.\n",
    "COORD_SCALE = 1."
   ]
  },
  {
   "cell_type": "code",
   "execution_count": 5,
   "metadata": {},
   "outputs": [],
   "source": [
    "img_path = r'..\\..\\ImageGenerator\\Images'\n",
    "data_path = r'..\\..\\ImageGenerator\\Image Data'"
   ]
  },
  {
   "cell_type": "code",
   "execution_count": 16,
   "metadata": {},
   "outputs": [],
   "source": [
    "def create_training_data(image_path, json_path):\n",
    "    training_data = []\n",
    "    for img in tqdm(os.listdir(image_path)):\n",
    "        try:\n",
    "            img_array = cv2.imread(os.path.join(image_path, img))\n",
    "            img_array = cv2.resize(img_array, (6000, 6000), interpolation=cv2.INTER_AREA)\n",
    "        except:\n",
    "            continue\n",
    "        json_file = img[0:-4] + '.json'\n",
    "        json_dict = json.load(open(os.path.join(json_path, json_file)))\n",
    "        grid_data = np.zeros((GRID_H, GRID_W, 5))\n",
    "        for target in json_dict:\n",
    "            x = json_dict[target]['x'] + 0.5 * json_dict[target]['width']  # move x, y to middle of target\n",
    "            y = json_dict[target]['y'] + 0.5 * json_dict[target]['height']\n",
    "            grid_x = int(x * grid_data.shape[1])  # calculates grid location of target\n",
    "            grid_y = int(y * grid_data.shape[0])\n",
    "\n",
    "            cell_data = np.array([1, x, y, json_dict[target]['width'], json_dict[target]['height']])\n",
    "\n",
    "            grid_data[grid_y, grid_x] = cell_data\n",
    "        training_data.append([img_array, grid_data])\n",
    "    return np.array(training_data)\n",
    "\n",
    "\n",
    "def store_training_data():\n",
    "    X_data = []\n",
    "    y_data = []\n",
    "    box_training_data = create_training_data(img_path, data_path)\n",
    "    for feature, label in box_training_data:\n",
    "        X_data.append(feature)\n",
    "        y_data.append(label)\n",
    "    X = np.array(X_data)\n",
    "    print(X[:, :, :].shape)\n",
    "    X = X.reshape(-1, 6000, 6000, 3)\n",
    "    y = np.array(y_data)\n",
    "\n",
    "    pickle_out = open(r\"../training_data/bounding_box_X.pickle\", \"wb\")\n",
    "    pickle.dump(X, pickle_out)\n",
    "    pickle_out.close()\n",
    "    pickle_out = open(r\"../training_data/bounding_box_y.pickle\", \"wb\")\n",
    "    pickle.dump(y, pickle_out)\n",
    "    pickle_out.close()"
   ]
  },
  {
   "cell_type": "code",
   "execution_count": 17,
   "metadata": {},
   "outputs": [],
   "source": [
    "def custom_loss(y_true, y_pred):\n",
    "    mask_shape = tf.shape(y_true)[:3]\n",
    "\n",
    "    cell_x = tf.cast(tf.reshape(tf.tile(tf.range(GRID_W), [GRID_H]), (1, GRID_H, GRID_W, 1, 1)), tf.float32)\n",
    "    cell_y = tf.transpose(cell_x, (0, 2, 1, 3, 4))\n",
    "\n",
    "    cell_grid = tf.tile(tf.concat([cell_x, cell_y], -1), [BATCH_SIZE, 1, 1, 5, 1])\n",
    "\n",
    "    conf_mask = tf.zeros(mask_shape)\n",
    "    # coord_mask = tf.zeros(mask_shape)\n",
    "\n",
    "    # seen = tf.Variable(0.)\n",
    "    # total_recall = tf.Variable(0.)\n",
    "\n",
    "    pred_box_xy = tf.sigmoid(y_pred[..., 1:3])  # + cell_grid\n",
    "    pred_box_wh = tf.exp(y_pred[..., 3:])  # * np.reshape(ANCHORS, [1, 1, 1, BOX, 2])\n",
    "\n",
    "    pred_box_conf = tf.sigmoid(y_pred[..., 4])\n",
    "\n",
    "    true_box_xy = y_true[..., 1:3]\n",
    "    true_box_wh = y_true[..., 3:]\n",
    "\n",
    "    true_wh_half = true_box_wh / 2.\n",
    "    true_mins = true_box_xy - true_wh_half\n",
    "    true_maxes = true_box_xy + true_wh_half\n",
    "\n",
    "    pred_wh_half = pred_box_wh / 2.\n",
    "    pred_mins = pred_box_xy - pred_wh_half\n",
    "    pred_maxes = pred_box_xy - pred_wh_half\n",
    "\n",
    "    intersect_mins = tf.maximum(pred_mins, true_mins)\n",
    "    intersect_maxes = tf.minimum(pred_maxes, true_maxes)\n",
    "    intersect_wh = tf.maximum(intersect_maxes - intersect_mins, 0.)\n",
    "    intersect_areas = intersect_wh[..., 0] * intersect_wh[..., 1]\n",
    "\n",
    "    true_areas = true_box_wh[..., 0] * true_box_wh[..., 1]\n",
    "    pred_areas = pred_box_wh[..., 0] * pred_box_wh[..., 1]\n",
    "\n",
    "    union_areas = pred_areas + true_areas - intersect_areas\n",
    "    iou_scores = tf.truediv(intersect_areas, union_areas)\n",
    "    best_ious = tf.reduce_max(iou_scores)\n",
    "\n",
    "    true_box_conf = iou_scores * y_true[..., 0]\n",
    "\n",
    "    coord_mask = tf.expand_dims(y_true[..., 0], axis=-1) * COORD_SCALE\n",
    "\n",
    "    conf_mask = conf_mask + tf.cast(best_ious < 0.6, tf.float32) * (1 - y_true[..., 0]) * NO_OBJECT_SCALE\n",
    "\n",
    "    conf_mask = conf_mask + y_true[..., 0] * OBJECT_SCALE\n",
    "\n",
    "    # warm up training\n",
    "    # no_boxes_mask = tf.cast(coord_mask < COORD_SCALE/2., tf.float32)\n",
    "    # seen.assign_add(1.)\n",
    "    #\n",
    "    # true_box_xy, true_box_wh, coord_mask = tf.cond(tf.less(seen, WARM_UP_BATCHES),\n",
    "    #                         lambda: [true_box_xy + (0.5 + cell_grid) * no_boxes_mask])\n",
    "\n",
    "    nb_coord_box = tf.reduce_sum(tf.cast(coord_mask > 0.0, tf.float32))\n",
    "    nb_conf_box = tf.reduce_sum(tf.cast(conf_mask > 0.0, tf.float32))\n",
    "\n",
    "    loss_xy = tf.reduce_sum(tf.square(true_box_xy-pred_box_xy) * coord_mask) / (nb_coord_box + 1e-6) / 2.\n",
    "    loss_wh = tf.reduce_sum(tf.square(true_box_wh-pred_box_wh) * coord_mask) / (nb_coord_box + 1e-6) / 2.\n",
    "    loss_conf = tf.reduce_sum(tf.square(true_box_conf-pred_box_conf) * conf_mask) / (nb_conf_box + 1e-6) / 2.\n",
    "\n",
    "    loss = loss_xy + loss_wh + loss_conf\n",
    "\n",
    "    # print(true_box_xy)\n",
    "    # nb_true_box = tf.reduce_sum(y_true[..., 0])\n",
    "    # nb_pred_box = tf.reduce_sum(tf.cast(true_box_conf > 0.5, tf.float32)) * tf.cast(pred_box_conf > 0.3, tf.float32)\n",
    "\n",
    "    # current_recall = nb_pred_box / (nb_true_box + 1e-6)\n",
    "    # total_recall.assign_add(current_recall)\n",
    "\n",
    "    # loss = tf.print(loss, [tf.zeros(1)], message='Dummy line \\t', summarize=1000)\n",
    "    # loss = tf.print(loss, [loss_xy], message='Loss XY \\t', summarize=1000)\n",
    "    # loss = tf.print(loss, [loss_wh], message='Loss WH \\t', summarize=1000)\n",
    "    # loss = tf.print(loss, [loss_conf], message='Loss Conf \\t', summarize=1000)\n",
    "    # loss = tf.print(loss, [loss], message='Total Loss \\t', summarize=1000)\n",
    "    # loss = tf.print(loss, [current_recall], message='Current Recall \\t', summarize=1000)\n",
    "    # loss = tf.print(loss, [total_recall/seen], message='Average Recall \\t', summarize=1000)\n",
    "\n",
    "    return loss"
   ]
  },
  {
   "cell_type": "code",
   "execution_count": 24,
   "metadata": {},
   "outputs": [],
   "source": [
    "def train_model():\n",
    "    pickle_in = open(\"../training_data/bounding_box_X.pickle\", 'rb')\n",
    "    X = pickle.load(pickle_in)\n",
    "\n",
    "    pickle_in = open(\"../training_data/bounding_box_y.pickle\", 'rb')\n",
    "    y = pickle.load(pickle_in)\n",
    "\n",
    "    X = X/255.\n",
    "\n",
    "    model = Sequential()\n",
    "    model.add(Conv2D(64, (7, 7), input_shape=X.shape[1:], strides=2))\n",
    "    model.add(LeakyReLU(alpha=0.05))\n",
    "    model.add(MaxPooling2D(pool_size=(2, 2), strides=2))\n",
    "\n",
    "    model.add(Conv2D(192, (5, 5), padding='same'))\n",
    "    model.add(LeakyReLU(alpha=0.05))\n",
    "    model.add(MaxPooling2D(pool_size=(2, 2), strides=2))\n",
    "\n",
    "    model.add(Conv2D(128, (5, 5), padding='same'))\n",
    "    model.add(LeakyReLU(alpha=0.05))\n",
    "    model.add(MaxPooling2D(pool_size=(2, 2), strides=2))\n",
    "\n",
    "    model.add(Conv2D(128, (5, 5), padding='same'))\n",
    "    model.add(LeakyReLU(alpha=0.05))\n",
    "    model.add(MaxPooling2D(pool_size=(2, 2), strides=2))\n",
    "\n",
    "    model.add(Conv2D(512, (3, 3), padding='same'))\n",
    "    model.add(LeakyReLU(alpha=0.05))\n",
    "    model.add(Conv2D(256, (1, 1), padding='same'))\n",
    "    model.add(LeakyReLU(alpha=0.05))\n",
    "    model.add(Conv2D(512, (3, 3), padding='same'))\n",
    "    model.add(LeakyReLU(alpha=0.05))\n",
    "    model.add(MaxPooling2D(pool_size=(2, 2), strides=2))\n",
    "\n",
    "    model.add(Conv2D(512, (3, 3), padding='same'))\n",
    "    model.add(LeakyReLU(alpha=0.05))\n",
    "    model.add(Conv2D(256, (1, 1), padding='same'))\n",
    "    model.add(LeakyReLU(alpha=0.05))\n",
    "    model.add(Conv2D(512, (3, 3), padding='same'))\n",
    "    model.add(LeakyReLU(alpha=0.05))\n",
    "    model.add(Conv2D(512, (3, 3), padding='same'))\n",
    "    model.add(LeakyReLU(alpha=0.05))\n",
    "    model.add(Conv2D(512, (1, 1), padding='same'))\n",
    "    model.add(LeakyReLU(alpha=0.05))\n",
    "    model.add(Conv2D(1024, (3, 3), padding='same'))\n",
    "    model.add(LeakyReLU(alpha=0.05))\n",
    "    model.add(MaxPooling2D(pool_size=(2, 2), strides=2))\n",
    "\n",
    "    model.add(Conv2D(128, (1, 1), padding='same'))\n",
    "    model.add(LeakyReLU(alpha=0.05))\n",
    "    model.add(Conv2D(1024, (3, 3)))\n",
    "    model.add(LeakyReLU(alpha=0.05))\n",
    "    model.add(Conv2D(1024, (3, 3)))\n",
    "    model.add(LeakyReLU(alpha=0.05))\n",
    "    model.add(Conv2D(1024, (3, 3)))\n",
    "\n",
    "    model.add(Conv2D(1024, (3, 3), padding='same'))\n",
    "    model.add(LeakyReLU(alpha=0.05))\n",
    "    model.add(Conv2D(1024, (3, 3), padding='same'))\n",
    "    model.add(LeakyReLU(alpha=0.05))\n",
    "    model.add(Conv2D(128, (3, 3), strides=2, padding='same'))\n",
    "    model.add(LeakyReLU(alpha=0.05))\n",
    "    model.add(Conv2D(128, (3, 3), strides=2, padding='same'))\n",
    "    model.add(LeakyReLU(alpha=0.05))\n",
    "    model.add(Conv2D(64, (3, 3), strides=2, padding='same'))\n",
    "    model.add(LeakyReLU(alpha=0.05))\n",
    "\n",
    "    model.add(Flatten())\n",
    "\n",
    "    # model.add(Dense(4096))\n",
    "    # model.add(Activation('relu'))\n",
    "\n",
    "    model.add(Dense(GRID_H * GRID_W * 5))\n",
    "    model.add(Activation('relu'))\n",
    "\n",
    "    model.add(Reshape((GRID_H, GRID_W, 5)))\n",
    "    model.summary()\n",
    "\n",
    "#     model.compile(loss=custom_loss,\n",
    "#                   optimizer='adam',\n",
    "#                   metrics=['accuracy'])\n",
    "#     model.fit(X, y,\n",
    "#               batch_size=BATCH_SIZE,\n",
    "#               epochs=4,\n",
    "#               validation_split=0.2,\n",
    "#               )\n",
    "    model.save('bounding_box.model')\n",
    "\n",
    "    return model"
   ]
  },
  {
   "cell_type": "code",
   "execution_count": 22,
   "metadata": {},
   "outputs": [
    {
     "name": "stderr",
     "output_type": "stream",
     "text": [
      "100%|████████████████████████████████████████████████████████████████████████████████████| 6/6 [00:04<00:00,  1.38it/s]\n",
      "C:\\Users\\hscot\\anaconda3\\envs\\py37\\lib\\site-packages\\ipykernel_launcher.py:22: VisibleDeprecationWarning: Creating an ndarray from ragged nested sequences (which is a list-or-tuple of lists-or-tuples-or ndarrays with different lengths or shapes) is deprecated. If you meant to do this, you must specify 'dtype=object' when creating the ndarray\n"
     ]
    },
    {
     "name": "stdout",
     "output_type": "stream",
     "text": [
      "(5, 6000, 6000, 3)\n"
     ]
    }
   ],
   "source": [
    "store_training_data()"
   ]
  },
  {
   "cell_type": "code",
   "execution_count": 25,
   "metadata": {},
   "outputs": [
    {
     "name": "stdout",
     "output_type": "stream",
     "text": [
      "Model: \"sequential_3\"\n",
      "_________________________________________________________________\n",
      "Layer (type)                 Output Shape              Param #   \n",
      "=================================================================\n",
      "conv2d_8 (Conv2D)            (None, 2997, 2997, 64)    9472      \n",
      "_________________________________________________________________\n",
      "leaky_re_lu_8 (LeakyReLU)    (None, 2997, 2997, 64)    0         \n",
      "_________________________________________________________________\n",
      "max_pooling2d_6 (MaxPooling2 (None, 1498, 1498, 64)    0         \n",
      "_________________________________________________________________\n",
      "conv2d_9 (Conv2D)            (None, 1498, 1498, 192)   307392    \n",
      "_________________________________________________________________\n",
      "leaky_re_lu_9 (LeakyReLU)    (None, 1498, 1498, 192)   0         \n",
      "_________________________________________________________________\n",
      "max_pooling2d_7 (MaxPooling2 (None, 749, 749, 192)     0         \n",
      "_________________________________________________________________\n",
      "conv2d_10 (Conv2D)           (None, 749, 749, 128)     614528    \n",
      "_________________________________________________________________\n",
      "leaky_re_lu_10 (LeakyReLU)   (None, 749, 749, 128)     0         \n",
      "_________________________________________________________________\n",
      "max_pooling2d_8 (MaxPooling2 (None, 374, 374, 128)     0         \n",
      "_________________________________________________________________\n",
      "conv2d_11 (Conv2D)           (None, 374, 374, 128)     409728    \n",
      "_________________________________________________________________\n",
      "leaky_re_lu_11 (LeakyReLU)   (None, 374, 374, 128)     0         \n",
      "_________________________________________________________________\n",
      "max_pooling2d_9 (MaxPooling2 (None, 187, 187, 128)     0         \n",
      "_________________________________________________________________\n",
      "conv2d_12 (Conv2D)           (None, 187, 187, 512)     590336    \n",
      "_________________________________________________________________\n",
      "leaky_re_lu_12 (LeakyReLU)   (None, 187, 187, 512)     0         \n",
      "_________________________________________________________________\n",
      "conv2d_13 (Conv2D)           (None, 187, 187, 256)     131328    \n",
      "_________________________________________________________________\n",
      "leaky_re_lu_13 (LeakyReLU)   (None, 187, 187, 256)     0         \n",
      "_________________________________________________________________\n",
      "conv2d_14 (Conv2D)           (None, 187, 187, 512)     1180160   \n",
      "_________________________________________________________________\n",
      "leaky_re_lu_14 (LeakyReLU)   (None, 187, 187, 512)     0         \n",
      "_________________________________________________________________\n",
      "max_pooling2d_10 (MaxPooling (None, 93, 93, 512)       0         \n",
      "_________________________________________________________________\n",
      "conv2d_15 (Conv2D)           (None, 93, 93, 512)       2359808   \n",
      "_________________________________________________________________\n",
      "leaky_re_lu_15 (LeakyReLU)   (None, 93, 93, 512)       0         \n",
      "_________________________________________________________________\n",
      "conv2d_16 (Conv2D)           (None, 93, 93, 256)       131328    \n",
      "_________________________________________________________________\n",
      "leaky_re_lu_16 (LeakyReLU)   (None, 93, 93, 256)       0         \n",
      "_________________________________________________________________\n",
      "conv2d_17 (Conv2D)           (None, 93, 93, 512)       1180160   \n",
      "_________________________________________________________________\n",
      "leaky_re_lu_17 (LeakyReLU)   (None, 93, 93, 512)       0         \n",
      "_________________________________________________________________\n",
      "conv2d_18 (Conv2D)           (None, 93, 93, 512)       2359808   \n",
      "_________________________________________________________________\n",
      "leaky_re_lu_18 (LeakyReLU)   (None, 93, 93, 512)       0         \n",
      "_________________________________________________________________\n",
      "conv2d_19 (Conv2D)           (None, 93, 93, 512)       262656    \n",
      "_________________________________________________________________\n",
      "leaky_re_lu_19 (LeakyReLU)   (None, 93, 93, 512)       0         \n",
      "_________________________________________________________________\n",
      "conv2d_20 (Conv2D)           (None, 93, 93, 1024)      4719616   \n",
      "_________________________________________________________________\n",
      "leaky_re_lu_20 (LeakyReLU)   (None, 93, 93, 1024)      0         \n",
      "_________________________________________________________________\n",
      "max_pooling2d_11 (MaxPooling (None, 46, 46, 1024)      0         \n",
      "_________________________________________________________________\n",
      "conv2d_21 (Conv2D)           (None, 46, 46, 128)       131200    \n",
      "_________________________________________________________________\n",
      "leaky_re_lu_21 (LeakyReLU)   (None, 46, 46, 128)       0         \n",
      "_________________________________________________________________\n",
      "conv2d_22 (Conv2D)           (None, 44, 44, 1024)      1180672   \n",
      "_________________________________________________________________\n",
      "leaky_re_lu_22 (LeakyReLU)   (None, 44, 44, 1024)      0         \n",
      "_________________________________________________________________\n",
      "conv2d_23 (Conv2D)           (None, 42, 42, 1024)      9438208   \n",
      "_________________________________________________________________\n",
      "leaky_re_lu_23 (LeakyReLU)   (None, 42, 42, 1024)      0         \n",
      "_________________________________________________________________\n",
      "conv2d_24 (Conv2D)           (None, 40, 40, 1024)      9438208   \n",
      "_________________________________________________________________\n",
      "conv2d_25 (Conv2D)           (None, 40, 40, 1024)      9438208   \n",
      "_________________________________________________________________\n",
      "leaky_re_lu_24 (LeakyReLU)   (None, 40, 40, 1024)      0         \n",
      "_________________________________________________________________\n",
      "conv2d_26 (Conv2D)           (None, 40, 40, 1024)      9438208   \n",
      "_________________________________________________________________\n",
      "leaky_re_lu_25 (LeakyReLU)   (None, 40, 40, 1024)      0         \n",
      "_________________________________________________________________\n",
      "conv2d_27 (Conv2D)           (None, 20, 20, 128)       1179776   \n",
      "_________________________________________________________________\n",
      "leaky_re_lu_26 (LeakyReLU)   (None, 20, 20, 128)       0         \n",
      "_________________________________________________________________\n",
      "conv2d_28 (Conv2D)           (None, 10, 10, 128)       147584    \n",
      "_________________________________________________________________\n",
      "leaky_re_lu_27 (LeakyReLU)   (None, 10, 10, 128)       0         \n",
      "_________________________________________________________________\n",
      "conv2d_29 (Conv2D)           (None, 5, 5, 64)          73792     \n",
      "_________________________________________________________________\n",
      "leaky_re_lu_28 (LeakyReLU)   (None, 5, 5, 64)          0         \n",
      "_________________________________________________________________\n",
      "flatten_1 (Flatten)          (None, 1600)              0         \n",
      "_________________________________________________________________\n",
      "dense_1 (Dense)              (None, 180)               288180    \n",
      "_________________________________________________________________\n",
      "activation_1 (Activation)    (None, 180)               0         \n",
      "_________________________________________________________________\n",
      "reshape_1 (Reshape)          (None, 6, 6, 5)           0         \n",
      "=================================================================\n",
      "Total params: 55,010,356\n",
      "Trainable params: 55,010,356\n",
      "Non-trainable params: 0\n",
      "_________________________________________________________________\n",
      "INFO:tensorflow:Assets written to: bounding_box.model\\assets\n"
     ]
    },
    {
     "data": {
      "text/plain": [
       "<tensorflow.python.keras.engine.sequential.Sequential at 0x1a602e11c08>"
      ]
     },
     "execution_count": 25,
     "metadata": {},
     "output_type": "execute_result"
    }
   ],
   "source": [
    "train_model()"
   ]
  },
  {
   "cell_type": "code",
   "execution_count": 26,
   "metadata": {},
   "outputs": [],
   "source": [
    "pickle_in = open(\"../training_data/bounding_box_X.pickle\", 'rb')\n",
    "X = pickle.load(pickle_in)\n",
    "\n",
    "pickle_in = open(\"../training_data/bounding_box_y.pickle\", 'rb')\n",
    "y = pickle.load(pickle_in)"
   ]
  },
  {
   "cell_type": "code",
   "execution_count": 27,
   "metadata": {},
   "outputs": [
    {
     "name": "stdout",
     "output_type": "stream",
     "text": [
      "(5, 6000, 6000, 3)\n"
     ]
    }
   ],
   "source": [
    "print(X.shape)"
   ]
  },
  {
   "cell_type": "code",
   "execution_count": 28,
   "metadata": {},
   "outputs": [],
   "source": [
    "import matplotlib.pyplot as plt"
   ]
  },
  {
   "cell_type": "code",
   "execution_count": 33,
   "metadata": {},
   "outputs": [
    {
     "name": "stdout",
     "output_type": "stream",
     "text": [
      "[[0. 0. 0. 0. 0.]\n",
      " [0. 0. 0. 0. 0.]\n",
      " [0. 0. 0. 0. 0.]\n",
      " [0. 0. 0. 0. 0.]\n",
      " [0. 0. 0. 0. 0.]\n",
      " [0. 0. 0. 0. 0.]]\n"
     ]
    },
    {
     "data": {
      "text/plain": [
       "<matplotlib.image.AxesImage at 0x1a6070f4148>"
      ]
     },
     "execution_count": 33,
     "metadata": {},
     "output_type": "execute_result"
    },
    {
     "data": {
      "image/png": "[encoded data removed]",
      "text/plain": [
       "<Figure size 432x288 with 1 Axes>"
      ]
     },
     "metadata": {
      "needs_background": "light"
     },
     "output_type": "display_data"
    }
   ],
   "source": [
    "num = 1\n",
    "print(y[num, 3])\n",
    "plt.imshow(cv2.cvtColor(X[num], cv2.COLOR_BGR2RGB))"
   ]
  },
  {
   "cell_type": "code",
   "execution_count": 89,
   "metadata": {},
   "outputs": [],
   "source": [
    "data = []\n",
    "labels = []\n",
    "def create_training_data(image_path, json_path, img_size):\n",
    "    global data\n",
    "    global labels\n",
    "    \n",
    "    training_data = []\n",
    "    training_labels = []\n",
    "    random.seed(27)\n",
    "    \n",
    "    for img in tqdm(os.listdir(image_path)):\n",
    "        try:\n",
    "            image = cv2.imread(os.path.join(image_path, img))\n",
    "            image = cv2.resize(image, (img_size, img_size))\n",
    "        except: \n",
    "            continue\n",
    "        image = img_to_array(image)\n",
    "        training_data.append(image)\n",
    "\n",
    "        image_grid = np.zeros((GRID_H, GRID_W, 5))\n",
    "        \n",
    "        json_file = img[0:-4] + '.json'\n",
    "        json_dict = json.load(open(os.path.join(json_path, json_file)))\n",
    "        for target in json_dict:\n",
    "            x = json_dict[target]['x']\n",
    "            y = json_dict[target]['y']\n",
    "            grid_x = int(x * GRID_W)\n",
    "            grid_y = int(y * GRID_H)\n",
    "            width = json_dict[target]['width']\n",
    "            height = json_dict[target]['height']\n",
    "            grid_cell = np.zeros((1, 1, 5))\n",
    "            \n",
    "            grid_cell[0, 0] = np.array([1, x, y, width, height])\n",
    "            image_grid[grid_y, grid_x] = grid_cell\n",
    "        training_labels.append(image_grid)\n",
    "    data = np.array(training_data, dtype=\"float\") / 255.0\n",
    "    labels = np.array(training_labels, dtype=\"float\")"
   ]
  },
  {
   "cell_type": "code",
   "execution_count": 90,
   "metadata": {},
   "outputs": [
    {
     "name": "stderr",
     "output_type": "stream",
     "text": [
      "100%|████████████████████████████████████████████████████████████████████████████████████| 6/6 [00:06<00:00,  1.03s/it]\n"
     ]
    }
   ],
   "source": [
    "create_training_data(img_path, data_path, 6000)"
   ]
  },
  {
   "cell_type": "code",
   "execution_count": 91,
   "metadata": {},
   "outputs": [
    {
     "name": "stdout",
     "output_type": "stream",
     "text": [
      "(6, 6, 5)\n"
     ]
    }
   ],
   "source": []
  },
  {
   "cell_type": "code",
   "execution_count": null,
   "metadata": {},
   "outputs": [],
   "source": []
  }
 ],
 "metadata": {
  "kernelspec": {
   "display_name": "Python (3.7)",
   "language": "python",
   "name": "3.7"
  },
  "language_info": {
   "codemirror_mode": {
    "name": "ipython",
    "version": 3
   },
   "file_extension": ".py",
   "mimetype": "text/x-python",
   "name": "python",
   "nbconvert_exporter": "python",
   "pygments_lexer": "ipython3",
   "version": "3.7.7"
  }
 },
 "nbformat": 4,
 "nbformat_minor": 4
}
