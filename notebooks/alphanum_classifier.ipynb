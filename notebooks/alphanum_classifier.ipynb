{
 "cells": [
  {
   "cell_type": "code",
   "execution_count": 1,
   "metadata": {},
   "outputs": [],
   "source": [
    "import json\n",
    "import numpy as np\n",
    "import os\n",
    "import cv2\n",
    "import random\n",
    "import pickle\n",
    "from tqdm import tqdm\n",
    "from enum import Enum\n",
    "\n",
    "os.environ[\"CUDA_VISIBLE_DEVICES\"] = \"-1\"\n",
    "\n",
    "from keras.models import Sequential, load_model\n",
    "from keras.layers import BatchNormalization, Conv2D, MaxPooling2D, Activation, \\\n",
    "    Flatten, Dropout, Dense\n",
    "from keras import backend as K\n",
    "from keras.preprocessing.image import ImageDataGenerator, img_to_array\n",
    "from keras.optimizers import Adam\n",
    "\n",
    "from sklearn.preprocessing import LabelBinarizer\n",
    "from sklearn.model_selection import train_test_split\n",
    "\n",
    "Alphanum = ['0', '1', '2', '3', '4', '5', '6', '7', '8', '9',\n",
    "            'a', 'b', 'c', 'd', 'e', 'f', 'g', 'h', 'i', 'j',\n",
    "            'k', 'l', 'm', 'n', 'o', 'p', 'q', 'r', 's', 't',\n",
    "            'u', 'v', 'w', 'x', 'y', 'z']\n"
   ]
  },
  {
   "cell_type": "code",
   "execution_count": 2,
   "metadata": {},
   "outputs": [],
   "source": [
    "IMAGE_SIZE = 96\n",
    "img_path = r'..\\..\\ImageGenerator\\Targets'\n",
    "json_path = r'..\\..\\ImageGenerator\\Target Data'"
   ]
  },
  {
   "cell_type": "code",
   "execution_count": 3,
   "metadata": {},
   "outputs": [],
   "source": [
    "EPOCHS = 8\n",
    "INIT_LR = 1e-3\n",
    "BS = 32\n",
    "IMAGE_DIMS = (96, 96, 1)\n",
    "\n",
    "data = []\n",
    "labels = []\n",
    "lb = LabelBinarizer()"
   ]
  },
  {
   "cell_type": "code",
   "execution_count": 4,
   "metadata": {},
   "outputs": [],
   "source": [
    "def create_training_data(image_path, json_path, img_size):\n",
    "    global data\n",
    "    global labels\n",
    "    \n",
    "    training_data = []\n",
    "    training_labels = []\n",
    "    \n",
    "    \n",
    "    for img in tqdm(os.listdir(image_path)):\n",
    "        image = cv2.imread(os.path.join(image_path, img))\n",
    "        image = cv2.resize(image, (img_size, img_size))\n",
    "        \n",
    "        # try with cv.Canny()\n",
    "        image = cv2.Canny(image, 100, 200)\n",
    "        image = img_to_array(image)\n",
    "        training_data.append(image)\n",
    "        \n",
    "        json_file = img[0:-4] + '.json'\n",
    "        \n",
    "        json_dict = json.load(open(os.path.join(json_path, json_file)))\n",
    "        class_number = Alphanum.index(json_dict[\"alphanumeric\"])\n",
    "        training_labels.append(class_number)\n",
    "        \n",
    "        \n",
    "    data = np.array(training_data, dtype=\"float\") / 255.0\n",
    "    labels = np.array(training_labels)\n",
    "    \n",
    "    print(\"[INFO] data matrix: {:.2f}MB\".format(data.nbytes / (1024 * 1000.0)))\n",
    "    \n",
    "    labels = lb.fit_transform(labels)"
   ]
  },
  {
   "cell_type": "code",
   "execution_count": 25,
   "metadata": {},
   "outputs": [],
   "source": [
    "def create_model(width, height, depth, classes):\n",
    "    model = Sequential()\n",
    "    input_shape = (height, width, depth)\n",
    "    chan_dim = -1\n",
    "    if K.image_data_format == \"channels_first\":\n",
    "        chan_dim = 1\n",
    "        \n",
    "    model.add(Conv2D(32, (3, 3), padding=\"same\", input_shape=input_shape))\n",
    "    model.add(Activation(\"relu\"))\n",
    "#     model.add(BatchNormalization(axis=chan_dim))\n",
    "#     model.add(Dropout(0.25))\n",
    "\n",
    "    model.add(Conv2D(512, (3, 3), padding=\"same\"))\n",
    "    model.add(Activation(\"relu\"))\n",
    "#     model.add(BatchNormalization(axis=chan_dim))\n",
    "    model.add(Conv2D(64, (3, 3), padding=\"same\"))\n",
    "    model.add(Activation(\"relu\"))\n",
    "#     model.add(BatchNormalization(axis=chan_dim))\n",
    "    model.add(MaxPooling2D(pool_size=(2, 2)))\n",
    "#     model.add(Dropout(0.25))\n",
    "\n",
    "    model.add(Conv2D(128, (3, 3), padding=\"same\"))\n",
    "    model.add(Activation(\"relu\"))\n",
    "#     model.add(BatchNormalization(axis=chan_dim))\n",
    "    model.add(Conv2D(128, (3, 3), padding=\"same\"))\n",
    "    model.add(Activation(\"relu\"))\n",
    "#     model.add(BatchNormalization(axis=chan_dim))\n",
    "    model.add(MaxPooling2D(pool_size=(2, 2)))\n",
    "#     model.add(Dropout(0.25))\n",
    "\n",
    "    model.add(Flatten())\n",
    "    model.add(Dense(1024))\n",
    "    model.add(Activation(\"relu\"))\n",
    "#     model.add(BatchNormalization())\n",
    "    model.add(Dropout(0.5))\n",
    "\n",
    "    model.add(Dense(classes))\n",
    "    model.summary()\n",
    "    model.add(Activation(\"softmax\"))\n",
    "    \n",
    "    return model"
   ]
  },
  {
   "cell_type": "code",
   "execution_count": 26,
   "metadata": {},
   "outputs": [],
   "source": [
    "def model_training_data():\n",
    "    (xTrain, xTest, yTrain, yTest) = train_test_split(data, labels, test_size=0.2, random_state=27)\n",
    "    \n",
    "    aug = ImageDataGenerator(rotation_range=25, width_shift_range=0.1, height_shift_range=0.1, \\\n",
    "                             shear_range=0.2, zoom_range=0.2, fill_mode=\"nearest\")\n",
    "    \n",
    "    model = create_model(96,96,1, len(lb.classes_))\n",
    "    opt = Adam(lr=INIT_LR, decay=INIT_LR / EPOCHS)\n",
    "    \n",
    "    model.compile(loss=\"categorical_crossentropy\", optimizer=opt, metrics=[\"accuracy\"])\n",
    "    \n",
    "    print(\"TRAINING NETWORK...\")\n",
    "    model.fit(xTrain, yTrain, validation_data=(xTest, yTest), steps_per_epoch=len(xTrain) // BS, \\\n",
    "              epochs=EPOCHS, verbose=1)\n",
    "    \n",
    "    print(\"SAVING MODEL...\")\n",
    "    model.save('alphanum_classifier.model', save_format=\"h5\")\n",
    "    f = open(r\"../training_data/alphanum.pickle\", \"wb\")\n",
    "    f.write(pickle.dumps(lb))\n",
    "    f.close()"
   ]
  },
  {
   "cell_type": "code",
   "execution_count": 27,
   "metadata": {},
   "outputs": [],
   "source": [
    "def test_model(imagePath):\n",
    "    image = cv2.imread(imagePath)\n",
    "    \n",
    "    image = cv2.resize(image, (96, 96))\n",
    "    iamge = cv2.Canny(image, 100, 200)\n",
    "    image = image.astype(\"float\") /  255.0\n",
    "    image = img_to_array(image)\n",
    "    image = np.expand_dims(image, axis=0)\n",
    "    print(image.shape)\n",
    "    lb = pickle.loads(open('../training_data/alphanum.pickle', 'rb').read())\n",
    "    \n",
    "    print(\"Classifying Image...\")\n",
    "    prediction = model.predict(image)[0]\n",
    "    idx = np.argmax(prediction)\n",
    "    label = lb.classes_[idx]\n",
    "    \n",
    "    print(\"RESULT: \", end=' ')\n",
    "    print(Alphanum[idx])"
   ]
  },
  {
   "cell_type": "code",
   "execution_count": 28,
   "metadata": {},
   "outputs": [
    {
     "name": "stderr",
     "output_type": "stream",
     "text": [
      "100%|█████████████████████████████████████████████████████████████████████████████| 1000/1000 [00:01<00:00, 507.61it/s]\n"
     ]
    },
    {
     "name": "stdout",
     "output_type": "stream",
     "text": [
      "[INFO] data matrix: 72.00MB\n"
     ]
    }
   ],
   "source": [
    "create_training_data(img_path, json_path, 96)"
   ]
  },
  {
   "cell_type": "code",
   "execution_count": null,
   "metadata": {},
   "outputs": [
    {
     "name": "stdout",
     "output_type": "stream",
     "text": [
      "Model: \"sequential_3\"\n",
      "_________________________________________________________________\n",
      "Layer (type)                 Output Shape              Param #   \n",
      "=================================================================\n",
      "conv2d_15 (Conv2D)           (None, 96, 96, 32)        320       \n",
      "_________________________________________________________________\n",
      "activation_21 (Activation)   (None, 96, 96, 32)        0         \n",
      "_________________________________________________________________\n",
      "conv2d_16 (Conv2D)           (None, 96, 96, 512)       147968    \n",
      "_________________________________________________________________\n",
      "activation_22 (Activation)   (None, 96, 96, 512)       0         \n",
      "_________________________________________________________________\n",
      "conv2d_17 (Conv2D)           (None, 96, 96, 64)        294976    \n",
      "_________________________________________________________________\n",
      "activation_23 (Activation)   (None, 96, 96, 64)        0         \n",
      "_________________________________________________________________\n",
      "max_pooling2d_6 (MaxPooling2 (None, 48, 48, 64)        0         \n",
      "_________________________________________________________________\n",
      "conv2d_18 (Conv2D)           (None, 48, 48, 128)       73856     \n",
      "_________________________________________________________________\n",
      "activation_24 (Activation)   (None, 48, 48, 128)       0         \n",
      "_________________________________________________________________\n",
      "conv2d_19 (Conv2D)           (None, 48, 48, 128)       147584    \n",
      "_________________________________________________________________\n",
      "activation_25 (Activation)   (None, 48, 48, 128)       0         \n",
      "_________________________________________________________________\n",
      "max_pooling2d_7 (MaxPooling2 (None, 24, 24, 128)       0         \n",
      "_________________________________________________________________\n",
      "flatten_3 (Flatten)          (None, 73728)             0         \n",
      "_________________________________________________________________\n",
      "dense_6 (Dense)              (None, 1024)              75498496  \n",
      "_________________________________________________________________\n",
      "activation_26 (Activation)   (None, 1024)              0         \n",
      "_________________________________________________________________\n",
      "dropout_6 (Dropout)          (None, 1024)              0         \n",
      "_________________________________________________________________\n",
      "dense_7 (Dense)              (None, 36)                36900     \n",
      "=================================================================\n",
      "Total params: 76,200,100\n",
      "Trainable params: 76,200,100\n",
      "Non-trainable params: 0\n",
      "_________________________________________________________________\n",
      "TRAINING NETWORK...\n",
      "Epoch 1/8\n",
      " 3/25 [==>...........................] - ETA: 1:25 - loss: 3.6052 - accuracy: 0.0417"
     ]
    }
   ],
   "source": [
    "model_training_data()"
   ]
  },
  {
   "cell_type": "code",
   "execution_count": null,
   "metadata": {},
   "outputs": [],
   "source": [
    "print('check')"
   ]
  },
  {
   "cell_type": "code",
   "execution_count": null,
   "metadata": {},
   "outputs": [],
   "source": [
    "print(labels[2])\n",
    "print(data.shape)\n",
    "import matplotlib.pyplot as plt\n",
    "plt.imshow(data[2], cmap=plt.cm.binary)"
   ]
  },
  {
   "cell_type": "code",
   "execution_count": null,
   "metadata": {},
   "outputs": [],
   "source": [
    "test_model('../../ImageGenerator/Targets/500.png')\n",
    "plt.imshow(cv2.imread('../../ImageGenerator/Targets/.png'), cmap=plt.cm.binary)"
   ]
  },
  {
   "cell_type": "code",
   "execution_count": null,
   "metadata": {},
   "outputs": [],
   "source": [
    "model = load_model('alphanum_classifier.model')\n",
    "lb = pickle.loads(open('../training_data/alphanum.pickle', 'rb').read())"
   ]
  },
  {
   "cell_type": "code",
   "execution_count": null,
   "metadata": {},
   "outputs": [],
   "source": [
    "imagePath = '../../ImageGenerator/Targets/100.png'\n",
    "\n",
    "image = cv2.imread(imagePath)\n",
    "image = cv2.resize(image, (96, 96))\n",
    "old_image = image\n",
    "\n",
    "# try with cv.Canny()\n",
    "image = cv2.Canny(image, 100, 200)\n",
    "image = img_to_array(image)\n",
    "image = np.expand_dims(image, axis=0)\n",
    "print(image.shape)\n",
    "\n",
    "print(\"Classifying Image...\")\n",
    "prediction = model.predict(image)[0]\n",
    "idx = np.argmax(prediction)\n",
    "label = lb.classes_[idx]\n",
    "\n",
    "print(\"RESULT: \", end=' ')\n",
    "print(Alphanum[idx])\n",
    "plt.imshow(old_image)"
   ]
  },
  {
   "cell_type": "code",
   "execution_count": null,
   "metadata": {},
   "outputs": [],
   "source": [
    "import tensorflow as tf\n",
    "tf.config.experimental.list_physical_devices('GPU')"
   ]
  },
  {
   "cell_type": "code",
   "execution_count": null,
   "metadata": {},
   "outputs": [],
   "source": [
    "print(\"Num GPUs Available: \", len(tf.config.experimental.list_physical_devices('GPU')))"
   ]
  },
  {
   "cell_type": "code",
   "execution_count": null,
   "metadata": {},
   "outputs": [],
   "source": [
    "print(len(data))"
   ]
  },
  {
   "cell_type": "code",
   "execution_count": null,
   "metadata": {},
   "outputs": [],
   "source": [
    "print(len(labels))"
   ]
  },
  {
   "cell_type": "code",
   "execution_count": null,
   "metadata": {},
   "outputs": [],
   "source": [
    "print(data[0].shape)"
   ]
  },
  {
   "cell_type": "code",
   "execution_count": 18,
   "metadata": {},
   "outputs": [
    {
     "name": "stdout",
     "output_type": "stream",
     "text": [
      "[1 0 0 0 0 0 0 0 0 0 0 0 0 0 0 0 0 0 0 0 0 0 0 0 0 0 0 0 0 0 0 0 0 0 0 0]\n"
     ]
    },
    {
     "data": {
      "image/png": "[encoded data removed]",
      "text/plain": [
       "<Figure size 432x288 with 1 Axes>"
      ]
     },
     "metadata": {
      "needs_background": "light"
     },
     "output_type": "display_data"
    }
   ],
   "source": [
    "import matplotlib.pyplot as plt\n",
    "plt.imshow(data[298], cmap=plt.cm.binary)\n",
    "print(labels[298])"
   ]
  },
  {
   "cell_type": "code",
   "execution_count": 19,
   "metadata": {},
   "outputs": [
    {
     "name": "stdout",
     "output_type": "stream",
     "text": [
      "[[[0.]\n",
      "  [0.]\n",
      "  [0.]\n",
      "  ...\n",
      "  [0.]\n",
      "  [0.]\n",
      "  [0.]]\n",
      "\n",
      " [[0.]\n",
      "  [0.]\n",
      "  [0.]\n",
      "  ...\n",
      "  [0.]\n",
      "  [0.]\n",
      "  [0.]]\n",
      "\n",
      " [[0.]\n",
      "  [0.]\n",
      "  [0.]\n",
      "  ...\n",
      "  [0.]\n",
      "  [0.]\n",
      "  [0.]]\n",
      "\n",
      " ...\n",
      "\n",
      " [[0.]\n",
      "  [0.]\n",
      "  [0.]\n",
      "  ...\n",
      "  [0.]\n",
      "  [0.]\n",
      "  [0.]]\n",
      "\n",
      " [[0.]\n",
      "  [0.]\n",
      "  [0.]\n",
      "  ...\n",
      "  [0.]\n",
      "  [0.]\n",
      "  [0.]]\n",
      "\n",
      " [[0.]\n",
      "  [0.]\n",
      "  [0.]\n",
      "  ...\n",
      "  [0.]\n",
      "  [0.]\n",
      "  [0.]]]\n"
     ]
    }
   ],
   "source": [
    "print(data[298])"
   ]
  },
  {
   "cell_type": "code",
   "execution_count": null,
   "metadata": {},
   "outputs": [],
   "source": []
  }
 ],
 "metadata": {
  "kernelspec": {
   "display_name": "Python (3.7)",
   "language": "python",
   "name": "3.7"
  },
  "language_info": {
   "codemirror_mode": {
    "name": "ipython",
    "version": 3
   },
   "file_extension": ".py",
   "mimetype": "text/x-python",
   "name": "python",
   "nbconvert_exporter": "python",
   "pygments_lexer": "ipython3",
   "version": "3.7.7"
  }
 },
 "nbformat": 4,
 "nbformat_minor": 4
}
